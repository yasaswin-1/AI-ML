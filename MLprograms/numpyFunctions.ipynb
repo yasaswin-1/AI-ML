{
 "cells": [
  {
   "cell_type": "code",
   "execution_count": 8,
   "id": "1af78ed9-5fb9-4022-a717-0a04d80917df",
   "metadata": {},
   "outputs": [
    {
     "name": "stdout",
     "output_type": "stream",
     "text": [
      "[1 2 3 4 5]\n"
     ]
    }
   ],
   "source": [
    "from numpy import *\n",
    "a = array([1,2,3,4,5])\n",
    "print(a)"
   ]
  },
  {
   "cell_type": "code",
   "execution_count": 9,
   "id": "44f7c5f7-6e69-4b3f-9841-94d7e6d14b13",
   "metadata": {},
   "outputs": [
    {
     "name": "stdout",
     "output_type": "stream",
     "text": [
      "[ 1.  2.  3.  4.  5.  6.  7.  8.  9. 10.]\n"
     ]
    }
   ],
   "source": [
    "a = linspace(1,10,10)\n",
    "print(a)"
   ]
  },
  {
   "cell_type": "code",
   "execution_count": 13,
   "id": "bdb2fa0f-cdd4-4123-b97b-4f545267d39b",
   "metadata": {},
   "outputs": [
    {
     "name": "stdout",
     "output_type": "stream",
     "text": [
      "[1 3 5 7 9]\n"
     ]
    }
   ],
   "source": [
    "a = arange(1,10,2)\n",
    "print(a)"
   ]
  },
  {
   "cell_type": "code",
   "execution_count": 14,
   "id": "1d3489ca-2289-4746-8a08-142ce4ff34eb",
   "metadata": {},
   "outputs": [
    {
     "data": {
      "text/plain": [
       "array([0., 0., 0., 0., 0.])"
      ]
     },
     "execution_count": 14,
     "metadata": {},
     "output_type": "execute_result"
    }
   ],
   "source": [
    "a = zeros(5)\n",
    "a"
   ]
  },
  {
   "cell_type": "code",
   "execution_count": 18,
   "id": "267303af-99e0-4a82-85bd-3496093c8ec3",
   "metadata": {},
   "outputs": [
    {
     "name": "stdout",
     "output_type": "stream",
     "text": [
      "[0.2 0.4 0.6 0.8 1.  1.2 1.4 1.6 1.8 2. ]\n"
     ]
    }
   ],
   "source": [
    "a = linspace(1,10,10)\n",
    "print(a/5)"
   ]
  },
  {
   "cell_type": "code",
   "execution_count": 20,
   "id": "533c30cc-bb4c-449e-a3ac-e2b75db317d3",
   "metadata": {},
   "outputs": [
    {
     "name": "stdout",
     "output_type": "stream",
     "text": [
      "[10  2  3  4  5]\n",
      "[10  2  3  4  5]\n",
      "[20  2  3  4  5]\n"
     ]
    }
   ],
   "source": [
    "a = array([1,2,3,4,5])\n",
    "b = a\n",
    "c = a.copy()\n",
    "b[0] = 10\n",
    "c[0] = 20\n",
    "print(a)\n",
    "print(b)\n",
    "print(c)"
   ]
  },
  {
   "cell_type": "code",
   "execution_count": 24,
   "id": "c2e9f98f-1f26-4b3f-9e39-5dc2f090cd52",
   "metadata": {},
   "outputs": [
    {
     "name": "stdout",
     "output_type": "stream",
     "text": [
      "[[1 2 3]\n",
      " [4 5 6]]\n"
     ]
    }
   ],
   "source": [
    "a = array([[1,2,3],[4,5,6]])\n",
    "print(a)"
   ]
  },
  {
   "cell_type": "code",
   "execution_count": 25,
   "id": "f5114aea-a44d-42aa-82a5-935380ced806",
   "metadata": {},
   "outputs": [
    {
     "data": {
      "text/plain": [
       "2"
      ]
     },
     "execution_count": 25,
     "metadata": {},
     "output_type": "execute_result"
    }
   ],
   "source": [
    "a.ndim"
   ]
  },
  {
   "cell_type": "code",
   "execution_count": 26,
   "id": "ab97df98-8f41-442d-a8fc-adf6a75cec6a",
   "metadata": {},
   "outputs": [
    {
     "data": {
      "text/plain": [
       "(2, 3)"
      ]
     },
     "execution_count": 26,
     "metadata": {},
     "output_type": "execute_result"
    }
   ],
   "source": [
    "a.shape"
   ]
  },
  {
   "cell_type": "code",
   "execution_count": 27,
   "id": "53f2dd09-d88b-4152-9182-e480b77e2926",
   "metadata": {},
   "outputs": [
    {
     "data": {
      "text/plain": [
       "6"
      ]
     },
     "execution_count": 27,
     "metadata": {},
     "output_type": "execute_result"
    }
   ],
   "source": [
    "a.size"
   ]
  },
  {
   "cell_type": "code",
   "execution_count": 28,
   "id": "ff31cfc8-2f35-424a-b256-e567b02fe6f3",
   "metadata": {},
   "outputs": [
    {
     "data": {
      "text/plain": [
       "array([[1, 2],\n",
       "       [3, 4],\n",
       "       [5, 6]])"
      ]
     },
     "execution_count": 28,
     "metadata": {},
     "output_type": "execute_result"
    }
   ],
   "source": [
    "a.reshape(3,2)"
   ]
  },
  {
   "cell_type": "code",
   "execution_count": 29,
   "id": "cf1dd1a3-6eee-41a4-bedb-4fff90c5b371",
   "metadata": {},
   "outputs": [
    {
     "data": {
      "text/plain": [
       "array([[1, 2, 3],\n",
       "       [4, 5, 6]])"
      ]
     },
     "execution_count": 29,
     "metadata": {},
     "output_type": "execute_result"
    }
   ],
   "source": [
    "a"
   ]
  },
  {
   "cell_type": "code",
   "execution_count": 30,
   "id": "ff513ed4-1c69-473e-9cee-3791ef5c2067",
   "metadata": {},
   "outputs": [
    {
     "name": "stdout",
     "output_type": "stream",
     "text": [
      "3\n"
     ]
    }
   ],
   "source": [
    "print(a[0][2])"
   ]
  },
  {
   "cell_type": "code",
   "execution_count": 34,
   "id": "a4094894-0407-44c9-bf03-58ec4463ab51",
   "metadata": {},
   "outputs": [
    {
     "name": "stdout",
     "output_type": "stream",
     "text": [
      "[2 3]\n"
     ]
    }
   ],
   "source": [
    "print(a[0,1:3])"
   ]
  },
  {
   "cell_type": "code",
   "execution_count": 39,
   "id": "76626fe3-8b5a-4528-9986-7955bc00d845",
   "metadata": {},
   "outputs": [],
   "source": [
    "i = eye(5)"
   ]
  },
  {
   "cell_type": "code",
   "execution_count": 40,
   "id": "b01a3c41-9d71-48ac-96c0-8f5d17fdb46e",
   "metadata": {},
   "outputs": [
    {
     "name": "stdout",
     "output_type": "stream",
     "text": [
      "[[1. 0. 0.]\n",
      " [0. 1. 0.]\n",
      " [0. 0. 1.]]\n"
     ]
    }
   ],
   "source": [
    "print(i[0:3,0:3])"
   ]
  },
  {
   "cell_type": "code",
   "execution_count": 41,
   "id": "fc77f1f5-157f-418c-ae44-5927a1fa4945",
   "metadata": {},
   "outputs": [],
   "source": [
    "a = array([1,2,3,4,5])"
   ]
  },
  {
   "cell_type": "code",
   "execution_count": 43,
   "id": "71c94041-5707-4af6-a9a8-73c46a1f3e17",
   "metadata": {},
   "outputs": [
    {
     "name": "stdout",
     "output_type": "stream",
     "text": [
      "3.0\n"
     ]
    }
   ],
   "source": [
    "print(mean(a))"
   ]
  },
  {
   "cell_type": "code",
   "execution_count": 44,
   "id": "d6391bcc-7fba-4997-878f-37af84ff13fe",
   "metadata": {},
   "outputs": [
    {
     "name": "stdout",
     "output_type": "stream",
     "text": [
      "1.4142135623730951\n"
     ]
    }
   ],
   "source": [
    "print(std(a))"
   ]
  },
  {
   "cell_type": "code",
   "execution_count": 45,
   "id": "7ebe7c43-14c3-49b6-8230-b49f301f2331",
   "metadata": {},
   "outputs": [
    {
     "name": "stdout",
     "output_type": "stream",
     "text": [
      "2.0\n"
     ]
    }
   ],
   "source": [
    "print(var(a))"
   ]
  },
  {
   "cell_type": "code",
   "execution_count": 46,
   "id": "0615e4b1-0b75-4a4c-b029-f14ef8bc5a2d",
   "metadata": {},
   "outputs": [
    {
     "name": "stdout",
     "output_type": "stream",
     "text": [
      "15\n"
     ]
    }
   ],
   "source": [
    "print(sum(a))"
   ]
  },
  {
   "cell_type": "code",
   "execution_count": 47,
   "id": "9ba6186f-6f59-4e7b-9100-1ec9a0898615",
   "metadata": {},
   "outputs": [
    {
     "name": "stdout",
     "output_type": "stream",
     "text": [
      "120\n"
     ]
    }
   ],
   "source": [
    "print(prod(a))"
   ]
  },
  {
   "cell_type": "code",
   "execution_count": 50,
   "id": "82599b3f-52b5-4981-b5d5-ea9c2dfb1bb0",
   "metadata": {},
   "outputs": [
    {
     "data": {
      "text/plain": [
       "array([[0., 0.],\n",
       "       [0., 0.]])"
      ]
     },
     "execution_count": 50,
     "metadata": {},
     "output_type": "execute_result"
    }
   ],
   "source": [
    "zeros([2,2])"
   ]
  },
  {
   "cell_type": "code",
   "execution_count": 58,
   "id": "e2ccb4df-933f-481e-af44-c08d568a44ec",
   "metadata": {},
   "outputs": [
    {
     "name": "stdout",
     "output_type": "stream",
     "text": [
      "[[1. 1.]\n",
      " [1. 1.]]\n"
     ]
    }
   ],
   "source": [
    "print(ones([2,2]))"
   ]
  },
  {
   "cell_type": "code",
   "execution_count": 60,
   "id": "08ab86a9-1648-4785-bcd0-e9619b8b32bc",
   "metadata": {},
   "outputs": [],
   "source": [
    "a = array([1,3,5,7,9])\n",
    "b = array([2,4,6,8])"
   ]
  },
  {
   "cell_type": "code",
   "execution_count": 62,
   "id": "1b562eb6-6010-4e9b-8766-788ac8964ea5",
   "metadata": {},
   "outputs": [
    {
     "name": "stdout",
     "output_type": "stream",
     "text": [
      "[1 3 5 7 9 2 4 6 8]\n"
     ]
    }
   ],
   "source": [
    "print(concatenate([a,b]))"
   ]
  },
  {
   "cell_type": "code",
   "execution_count": 64,
   "id": "92922dae-9293-4461-87e2-6c99444f66fa",
   "metadata": {},
   "outputs": [
    {
     "name": "stdout",
     "output_type": "stream",
     "text": [
      "[[2 3 4]\n",
      " [4 5 6]\n",
      " [7 8 9]\n",
      " [2 3 4]\n",
      " [4 5 6]\n",
      " [7 8 9]]\n"
     ]
    }
   ],
   "source": [
    "a=array([[2,3,4],[4,5,6],[7,8,9]])\n",
    "b=array([[2,3,4],[4,5,6],[7,8,9]])\n",
    "print(concatenate([a,b],axis= 0))"
   ]
  },
  {
   "cell_type": "code",
   "execution_count": 65,
   "id": "53a5ce33-cef0-4231-92d1-f663fa7f6953",
   "metadata": {},
   "outputs": [
    {
     "name": "stdout",
     "output_type": "stream",
     "text": [
      "[[2 3 4 2 3 4]\n",
      " [4 5 6 4 5 6]\n",
      " [7 8 9 7 8 9]]\n"
     ]
    }
   ],
   "source": [
    "print(hstack([a,b]))"
   ]
  },
  {
   "cell_type": "code",
   "execution_count": 66,
   "id": "ae3ce257-8dfd-4c93-810c-fb7047d986a9",
   "metadata": {},
   "outputs": [
    {
     "name": "stdout",
     "output_type": "stream",
     "text": [
      "[[2 3 4]\n",
      " [4 5 6]\n",
      " [7 8 9]\n",
      " [2 3 4]\n",
      " [4 5 6]\n",
      " [7 8 9]]\n"
     ]
    }
   ],
   "source": [
    "print(vstack([a,b]))"
   ]
  },
  {
   "cell_type": "code",
   "execution_count": 77,
   "id": "19893aba-1483-4fc1-838d-2dc684465b3e",
   "metadata": {},
   "outputs": [],
   "source": [
    "a = array([1,2,3,4,5,6])\n",
    "a,b,c = split(a,[3,4])"
   ]
  },
  {
   "cell_type": "code",
   "execution_count": 78,
   "id": "183483ae-491b-41ed-9a75-574ba9edb15e",
   "metadata": {},
   "outputs": [
    {
     "name": "stdout",
     "output_type": "stream",
     "text": [
      "[1 2 3] [4] [5 6]\n"
     ]
    }
   ],
   "source": [
    "print(a,b,c)"
   ]
  },
  {
   "cell_type": "code",
   "execution_count": 93,
   "id": "0585aac3-0a4a-4287-be24-f6bcb6f826ed",
   "metadata": {},
   "outputs": [],
   "source": [
    "a = array([[2,3,4],[4,5,6],[7,8,9],[1,2,3]])\n"
   ]
  },
  {
   "cell_type": "code",
   "execution_count": 94,
   "id": "ffa4b220-b499-4118-8d19-3649087a962f",
   "metadata": {},
   "outputs": [],
   "source": [
    "b,c = vsplit(a, 2)"
   ]
  },
  {
   "cell_type": "code",
   "execution_count": 96,
   "id": "05e4d22f-b3f9-4539-bf5a-da6be07b9b5a",
   "metadata": {},
   "outputs": [
    {
     "name": "stdout",
     "output_type": "stream",
     "text": [
      "[[2 3 4]\n",
      " [4 5 6]]\n",
      "[[7 8 9]\n",
      " [1 2 3]]\n"
     ]
    }
   ],
   "source": [
    "print(b)\n",
    "print(c)"
   ]
  },
  {
   "cell_type": "code",
   "execution_count": 102,
   "id": "997362e2-75f1-410f-beb4-47711f3d9d50",
   "metadata": {},
   "outputs": [
    {
     "name": "stdout",
     "output_type": "stream",
     "text": [
      "[[2]\n",
      " [4]\n",
      " [7]\n",
      " [1]]\n",
      "[[3]\n",
      " [5]\n",
      " [8]\n",
      " [2]]\n",
      "[[4]\n",
      " [6]\n",
      " [9]\n",
      " [3]]\n"
     ]
    }
   ],
   "source": [
    "b,c,d = hsplit(a, 3)\n",
    "print(b)\n",
    "print(c)\n",
    "print(d)"
   ]
  },
  {
   "cell_type": "code",
   "execution_count": null,
   "id": "2e3d755a-9dd8-4a21-909d-644817cd762c",
   "metadata": {},
   "outputs": [],
   "source": []
  }
 ],
 "metadata": {
  "kernelspec": {
   "display_name": "Python 3 (ipykernel)",
   "language": "python",
   "name": "python3"
  },
  "language_info": {
   "codemirror_mode": {
    "name": "ipython",
    "version": 3
   },
   "file_extension": ".py",
   "mimetype": "text/x-python",
   "name": "python",
   "nbconvert_exporter": "python",
   "pygments_lexer": "ipython3",
   "version": "3.13.1"
  }
 },
 "nbformat": 4,
 "nbformat_minor": 5
}
